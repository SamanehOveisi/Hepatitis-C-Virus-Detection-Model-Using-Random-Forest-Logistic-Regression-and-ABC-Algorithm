{
  "nbformat": 4,
  "nbformat_minor": 0,
  "metadata": {
    "colab": {
      "provenance": [],
      "authorship_tag": "ABX9TyOCoE7UQDRXksnx3uysTDcZ",
      "include_colab_link": true
    },
    "kernelspec": {
      "name": "python3",
      "display_name": "Python 3"
    },
    "language_info": {
      "name": "python"
    }
  },
  "cells": [
    {
      "cell_type": "markdown",
      "metadata": {
        "id": "view-in-github",
        "colab_type": "text"
      },
      "source": [
        "<a href=\"https://colab.research.google.com/github/SamanehOveisi/Hepatitis-C-Virus-Detection-Model-Using-Random-Forest-Logistic-Regression-and-ABC-Algorithm/blob/main/Hepatitis_C_Virus_Detection.ipynb\" target=\"_parent\"><img src=\"https://colab.research.google.com/assets/colab-badge.svg\" alt=\"Open In Colab\"/></a>"
      ]
    },
    {
      "cell_type": "code",
      "execution_count": 5,
      "metadata": {
        "colab": {
          "base_uri": "https://localhost:8080/",
          "height": 69
        },
        "id": "guawwGM9PhWe",
        "outputId": "e47d0ce2-0b84-44c6-a7e6-3bc60405f4ab"
      },
      "outputs": [
        {
          "output_type": "display_data",
          "data": {
            "text/plain": [
              "<IPython.core.display.HTML object>"
            ],
            "text/html": [
              "\n",
              "     <input type=\"file\" id=\"files-5a737fe2-d10d-4868-a281-f85ed2baff09\" name=\"files[]\" multiple disabled\n",
              "        style=\"border:none\" />\n",
              "     <output id=\"result-5a737fe2-d10d-4868-a281-f85ed2baff09\">\n",
              "      Upload widget is only available when the cell has been executed in the\n",
              "      current browser session. Please rerun this cell to enable.\n",
              "      </output>\n",
              "      <script>// Copyright 2017 Google LLC\n",
              "//\n",
              "// Licensed under the Apache License, Version 2.0 (the \"License\");\n",
              "// you may not use this file except in compliance with the License.\n",
              "// You may obtain a copy of the License at\n",
              "//\n",
              "//      http://www.apache.org/licenses/LICENSE-2.0\n",
              "//\n",
              "// Unless required by applicable law or agreed to in writing, software\n",
              "// distributed under the License is distributed on an \"AS IS\" BASIS,\n",
              "// WITHOUT WARRANTIES OR CONDITIONS OF ANY KIND, either express or implied.\n",
              "// See the License for the specific language governing permissions and\n",
              "// limitations under the License.\n",
              "\n",
              "/**\n",
              " * @fileoverview Helpers for google.colab Python module.\n",
              " */\n",
              "(function(scope) {\n",
              "function span(text, styleAttributes = {}) {\n",
              "  const element = document.createElement('span');\n",
              "  element.textContent = text;\n",
              "  for (const key of Object.keys(styleAttributes)) {\n",
              "    element.style[key] = styleAttributes[key];\n",
              "  }\n",
              "  return element;\n",
              "}\n",
              "\n",
              "// Max number of bytes which will be uploaded at a time.\n",
              "const MAX_PAYLOAD_SIZE = 100 * 1024;\n",
              "\n",
              "function _uploadFiles(inputId, outputId) {\n",
              "  const steps = uploadFilesStep(inputId, outputId);\n",
              "  const outputElement = document.getElementById(outputId);\n",
              "  // Cache steps on the outputElement to make it available for the next call\n",
              "  // to uploadFilesContinue from Python.\n",
              "  outputElement.steps = steps;\n",
              "\n",
              "  return _uploadFilesContinue(outputId);\n",
              "}\n",
              "\n",
              "// This is roughly an async generator (not supported in the browser yet),\n",
              "// where there are multiple asynchronous steps and the Python side is going\n",
              "// to poll for completion of each step.\n",
              "// This uses a Promise to block the python side on completion of each step,\n",
              "// then passes the result of the previous step as the input to the next step.\n",
              "function _uploadFilesContinue(outputId) {\n",
              "  const outputElement = document.getElementById(outputId);\n",
              "  const steps = outputElement.steps;\n",
              "\n",
              "  const next = steps.next(outputElement.lastPromiseValue);\n",
              "  return Promise.resolve(next.value.promise).then((value) => {\n",
              "    // Cache the last promise value to make it available to the next\n",
              "    // step of the generator.\n",
              "    outputElement.lastPromiseValue = value;\n",
              "    return next.value.response;\n",
              "  });\n",
              "}\n",
              "\n",
              "/**\n",
              " * Generator function which is called between each async step of the upload\n",
              " * process.\n",
              " * @param {string} inputId Element ID of the input file picker element.\n",
              " * @param {string} outputId Element ID of the output display.\n",
              " * @return {!Iterable<!Object>} Iterable of next steps.\n",
              " */\n",
              "function* uploadFilesStep(inputId, outputId) {\n",
              "  const inputElement = document.getElementById(inputId);\n",
              "  inputElement.disabled = false;\n",
              "\n",
              "  const outputElement = document.getElementById(outputId);\n",
              "  outputElement.innerHTML = '';\n",
              "\n",
              "  const pickedPromise = new Promise((resolve) => {\n",
              "    inputElement.addEventListener('change', (e) => {\n",
              "      resolve(e.target.files);\n",
              "    });\n",
              "  });\n",
              "\n",
              "  const cancel = document.createElement('button');\n",
              "  inputElement.parentElement.appendChild(cancel);\n",
              "  cancel.textContent = 'Cancel upload';\n",
              "  const cancelPromise = new Promise((resolve) => {\n",
              "    cancel.onclick = () => {\n",
              "      resolve(null);\n",
              "    };\n",
              "  });\n",
              "\n",
              "  // Wait for the user to pick the files.\n",
              "  const files = yield {\n",
              "    promise: Promise.race([pickedPromise, cancelPromise]),\n",
              "    response: {\n",
              "      action: 'starting',\n",
              "    }\n",
              "  };\n",
              "\n",
              "  cancel.remove();\n",
              "\n",
              "  // Disable the input element since further picks are not allowed.\n",
              "  inputElement.disabled = true;\n",
              "\n",
              "  if (!files) {\n",
              "    return {\n",
              "      response: {\n",
              "        action: 'complete',\n",
              "      }\n",
              "    };\n",
              "  }\n",
              "\n",
              "  for (const file of files) {\n",
              "    const li = document.createElement('li');\n",
              "    li.append(span(file.name, {fontWeight: 'bold'}));\n",
              "    li.append(span(\n",
              "        `(${file.type || 'n/a'}) - ${file.size} bytes, ` +\n",
              "        `last modified: ${\n",
              "            file.lastModifiedDate ? file.lastModifiedDate.toLocaleDateString() :\n",
              "                                    'n/a'} - `));\n",
              "    const percent = span('0% done');\n",
              "    li.appendChild(percent);\n",
              "\n",
              "    outputElement.appendChild(li);\n",
              "\n",
              "    const fileDataPromise = new Promise((resolve) => {\n",
              "      const reader = new FileReader();\n",
              "      reader.onload = (e) => {\n",
              "        resolve(e.target.result);\n",
              "      };\n",
              "      reader.readAsArrayBuffer(file);\n",
              "    });\n",
              "    // Wait for the data to be ready.\n",
              "    let fileData = yield {\n",
              "      promise: fileDataPromise,\n",
              "      response: {\n",
              "        action: 'continue',\n",
              "      }\n",
              "    };\n",
              "\n",
              "    // Use a chunked sending to avoid message size limits. See b/62115660.\n",
              "    let position = 0;\n",
              "    do {\n",
              "      const length = Math.min(fileData.byteLength - position, MAX_PAYLOAD_SIZE);\n",
              "      const chunk = new Uint8Array(fileData, position, length);\n",
              "      position += length;\n",
              "\n",
              "      const base64 = btoa(String.fromCharCode.apply(null, chunk));\n",
              "      yield {\n",
              "        response: {\n",
              "          action: 'append',\n",
              "          file: file.name,\n",
              "          data: base64,\n",
              "        },\n",
              "      };\n",
              "\n",
              "      let percentDone = fileData.byteLength === 0 ?\n",
              "          100 :\n",
              "          Math.round((position / fileData.byteLength) * 100);\n",
              "      percent.textContent = `${percentDone}% done`;\n",
              "\n",
              "    } while (position < fileData.byteLength);\n",
              "  }\n",
              "\n",
              "  // All done.\n",
              "  yield {\n",
              "    response: {\n",
              "      action: 'complete',\n",
              "    }\n",
              "  };\n",
              "}\n",
              "\n",
              "scope.google = scope.google || {};\n",
              "scope.google.colab = scope.google.colab || {};\n",
              "scope.google.colab._files = {\n",
              "  _uploadFiles,\n",
              "  _uploadFilesContinue,\n",
              "};\n",
              "})(self);\n",
              "</script> "
            ]
          },
          "metadata": {}
        },
        {
          "output_type": "stream",
          "name": "stdout",
          "text": [
            "Saving hcvdat0.csv to hcvdat0.csv\n"
          ]
        }
      ],
      "source": [
        "from google.colab import files\n",
        "uploaded = files.upload()"
      ]
    },
    {
      "cell_type": "code",
      "source": [
        "# Import necessary libraries\n",
        "import pandas as pd\n",
        "\n",
        "# Load the dataset (assuming CSV format)\n",
        "# Replace 'path_to_file.csv' with the actual path to your dataset\n",
        "dataset = pd.read_csv('hcvdat0.csv')\n",
        "\n",
        "# Display the first few rows of the dataset\n",
        "print(dataset.head())"
      ],
      "metadata": {
        "colab": {
          "base_uri": "https://localhost:8080/"
        },
        "id": "RDYbcK-gRABv",
        "outputId": "47ae26bc-1ffc-4e12-fe3b-ed73ae748411"
      },
      "execution_count": 6,
      "outputs": [
        {
          "output_type": "stream",
          "name": "stdout",
          "text": [
            "   Unnamed: 0       Category  Age Sex   ALB   ALP   ALT   AST   BIL    CHE  \\\n",
            "0           1  0=Blood Donor   32   m  38.5  52.5   7.7  22.1   7.5   6.93   \n",
            "1           2  0=Blood Donor   32   m  38.5  70.3  18.0  24.7   3.9  11.17   \n",
            "2           3  0=Blood Donor   32   m  46.9  74.7  36.2  52.6   6.1   8.84   \n",
            "3           4  0=Blood Donor   32   m  43.2  52.0  30.6  22.6  18.9   7.33   \n",
            "4           5  0=Blood Donor   32   m  39.2  74.1  32.6  24.8   9.6   9.15   \n",
            "\n",
            "   CHOL   CREA   GGT  PROT  \n",
            "0  3.23  106.0  12.1  69.0  \n",
            "1  4.80   74.0  15.6  76.5  \n",
            "2  5.20   86.0  33.2  79.3  \n",
            "3  4.74   80.0  33.8  75.7  \n",
            "4  4.32   76.0  29.9  68.7  \n"
          ]
        }
      ]
    },
    {
      "cell_type": "code",
      "source": [
        "# Import necessary libraries\n",
        "from sklearn.impute import SimpleImputer\n",
        "from sklearn.preprocessing import LabelEncoder\n",
        "\n",
        "# Separate the categorical and numeric columns\n",
        "numeric_columns = dataset.select_dtypes(include=['float64', 'int64']).columns\n",
        "categorical_columns = dataset.select_dtypes(include=['object']).columns\n",
        "\n",
        "# Impute missing values for numeric columns (mean strategy)\n",
        "imputer_numeric = SimpleImputer(strategy='mean')\n",
        "dataset[numeric_columns] = imputer_numeric.fit_transform(dataset[numeric_columns])\n",
        "\n",
        "# For categorical columns, fill missing values with the most frequent (mode) value\n",
        "imputer_categorical = SimpleImputer(strategy='most_frequent')\n",
        "dataset[categorical_columns] = imputer_categorical.fit_transform(dataset[categorical_columns])\n",
        "\n",
        "# Convert categorical columns to numeric using Label Encoding (if necessary)\n",
        "for column in categorical_columns:\n",
        "    dataset[column] = LabelEncoder().fit_transform(dataset[column])\n",
        "\n",
        "# Display the cleaned dataset\n",
        "print(dataset.head())\n",
        "\n",
        "# Check for any remaining missing values\n",
        "print(\"Missing values after imputation:\")\n",
        "print(dataset.isnull().sum())"
      ],
      "metadata": {
        "colab": {
          "base_uri": "https://localhost:8080/"
        },
        "id": "vnGzzifMTTeZ",
        "outputId": "11597904-21dc-4005-d62c-eef76a70c0da"
      },
      "execution_count": 7,
      "outputs": [
        {
          "output_type": "stream",
          "name": "stdout",
          "text": [
            "   Unnamed: 0  Category   Age  Sex   ALB   ALP   ALT   AST   BIL    CHE  CHOL  \\\n",
            "0         1.0         0  32.0    1  38.5  52.5   7.7  22.1   7.5   6.93  3.23   \n",
            "1         2.0         0  32.0    1  38.5  70.3  18.0  24.7   3.9  11.17  4.80   \n",
            "2         3.0         0  32.0    1  46.9  74.7  36.2  52.6   6.1   8.84  5.20   \n",
            "3         4.0         0  32.0    1  43.2  52.0  30.6  22.6  18.9   7.33  4.74   \n",
            "4         5.0         0  32.0    1  39.2  74.1  32.6  24.8   9.6   9.15  4.32   \n",
            "\n",
            "    CREA   GGT  PROT  \n",
            "0  106.0  12.1  69.0  \n",
            "1   74.0  15.6  76.5  \n",
            "2   86.0  33.2  79.3  \n",
            "3   80.0  33.8  75.7  \n",
            "4   76.0  29.9  68.7  \n",
            "Missing values after imputation:\n",
            "Unnamed: 0    0\n",
            "Category      0\n",
            "Age           0\n",
            "Sex           0\n",
            "ALB           0\n",
            "ALP           0\n",
            "ALT           0\n",
            "AST           0\n",
            "BIL           0\n",
            "CHE           0\n",
            "CHOL          0\n",
            "CREA          0\n",
            "GGT           0\n",
            "PROT          0\n",
            "dtype: int64\n"
          ]
        }
      ]
    },
    {
      "cell_type": "code",
      "source": [
        "from sklearn.preprocessing import LabelEncoder\n",
        "\n",
        "# Convert categorical columns to numeric\n",
        "dataset['Sex'] = LabelEncoder().fit_transform(dataset['Sex'])\n",
        "dataset['Category'] = LabelEncoder().fit_transform(dataset['Category'])\n",
        "\n",
        "# Display the first few rows of the cleaned dataset\n",
        "print(dataset.head())"
      ],
      "metadata": {
        "colab": {
          "base_uri": "https://localhost:8080/"
        },
        "id": "HAIVvGXmYB0q",
        "outputId": "2ded6d47-83aa-4bca-fa0d-cab52e0780cf"
      },
      "execution_count": 9,
      "outputs": [
        {
          "output_type": "stream",
          "name": "stdout",
          "text": [
            "   Unnamed: 0  Category   Age  Sex   ALB   ALP   ALT   AST   BIL    CHE  CHOL  \\\n",
            "0         1.0         0  32.0    1  38.5  52.5   7.7  22.1   7.5   6.93  3.23   \n",
            "1         2.0         0  32.0    1  38.5  70.3  18.0  24.7   3.9  11.17  4.80   \n",
            "2         3.0         0  32.0    1  46.9  74.7  36.2  52.6   6.1   8.84  5.20   \n",
            "3         4.0         0  32.0    1  43.2  52.0  30.6  22.6  18.9   7.33  4.74   \n",
            "4         5.0         0  32.0    1  39.2  74.1  32.6  24.8   9.6   9.15  4.32   \n",
            "\n",
            "    CREA   GGT  PROT  \n",
            "0  106.0  12.1  69.0  \n",
            "1   74.0  15.6  76.5  \n",
            "2   86.0  33.2  79.3  \n",
            "3   80.0  33.8  75.7  \n",
            "4   76.0  29.9  68.7  \n"
          ]
        }
      ]
    },
    {
      "cell_type": "code",
      "source": [
        "# Separate features and target (assuming 'Category' is the target column)\n",
        "X = dataset.drop('Category', axis=1)  # Features (everything except 'Category')\n",
        "y = dataset['Category']  # Target (the 'Category' column)\n",
        "\n",
        "# Display the first few rows of features and target\n",
        "print(\"Features (X):\")\n",
        "print(X.head())\n",
        "print(\"\\nTarget (y):\")\n",
        "print(y.head())"
      ],
      "metadata": {
        "colab": {
          "base_uri": "https://localhost:8080/"
        },
        "id": "hdoD5ldSs04k",
        "outputId": "6a4b5f75-896e-4119-ad4f-638698820669"
      },
      "execution_count": 11,
      "outputs": [
        {
          "output_type": "stream",
          "name": "stdout",
          "text": [
            "Features (X):\n",
            "   Unnamed: 0   Age  Sex   ALB   ALP   ALT   AST   BIL    CHE  CHOL   CREA  \\\n",
            "0         1.0  32.0    1  38.5  52.5   7.7  22.1   7.5   6.93  3.23  106.0   \n",
            "1         2.0  32.0    1  38.5  70.3  18.0  24.7   3.9  11.17  4.80   74.0   \n",
            "2         3.0  32.0    1  46.9  74.7  36.2  52.6   6.1   8.84  5.20   86.0   \n",
            "3         4.0  32.0    1  43.2  52.0  30.6  22.6  18.9   7.33  4.74   80.0   \n",
            "4         5.0  32.0    1  39.2  74.1  32.6  24.8   9.6   9.15  4.32   76.0   \n",
            "\n",
            "    GGT  PROT  \n",
            "0  12.1  69.0  \n",
            "1  15.6  76.5  \n",
            "2  33.2  79.3  \n",
            "3  33.8  75.7  \n",
            "4  29.9  68.7  \n",
            "\n",
            "Target (y):\n",
            "0    0\n",
            "1    0\n",
            "2    0\n",
            "3    0\n",
            "4    0\n",
            "Name: Category, dtype: int64\n"
          ]
        }
      ]
    },
    {
      "cell_type": "code",
      "source": [
        "# Install imbalanced-learn if not already installed (this line is for Colab or local setup)\n",
        "!pip install imbalanced-learn\n",
        "\n",
        "# Import SMOTE from imbalanced-learn\n",
        "from imblearn.over_sampling import SMOTE\n",
        "\n",
        "# Apply SMOTE to the training data\n",
        "smote = SMOTE(random_state=42)\n",
        "X_resampled, y_resampled = smote.fit_resample(X, y)\n",
        "\n",
        "# Display the class distribution after SMOTE\n",
        "print(\"Class distribution after SMOTE:\")\n",
        "print(pd.Series(y_resampled).value_counts())"
      ],
      "metadata": {
        "colab": {
          "base_uri": "https://localhost:8080/"
        },
        "id": "XlEMccHRtUwo",
        "outputId": "e5231280-1a1e-44fc-ba27-d48057029450"
      },
      "execution_count": 12,
      "outputs": [
        {
          "output_type": "stream",
          "name": "stdout",
          "text": [
            "Requirement already satisfied: imbalanced-learn in /usr/local/lib/python3.10/dist-packages (0.12.3)\n",
            "Requirement already satisfied: numpy>=1.17.3 in /usr/local/lib/python3.10/dist-packages (from imbalanced-learn) (1.26.4)\n",
            "Requirement already satisfied: scipy>=1.5.0 in /usr/local/lib/python3.10/dist-packages (from imbalanced-learn) (1.13.1)\n",
            "Requirement already satisfied: scikit-learn>=1.0.2 in /usr/local/lib/python3.10/dist-packages (from imbalanced-learn) (1.5.2)\n",
            "Requirement already satisfied: joblib>=1.1.1 in /usr/local/lib/python3.10/dist-packages (from imbalanced-learn) (1.4.2)\n",
            "Requirement already satisfied: threadpoolctl>=2.0.0 in /usr/local/lib/python3.10/dist-packages (from imbalanced-learn) (3.5.0)\n",
            "Class distribution after SMOTE:\n",
            "Category\n",
            "0    533\n",
            "1    533\n",
            "2    533\n",
            "3    533\n",
            "4    533\n",
            "Name: count, dtype: int64\n"
          ]
        }
      ]
    },
    {
      "cell_type": "code",
      "source": [
        "from sklearn.preprocessing import StandardScaler\n",
        "\n",
        "# Initialize the StandardScaler\n",
        "scaler = StandardScaler()\n",
        "\n",
        "# Fit and transform the data\n",
        "X_scaled = scaler.fit_transform(X_resampled)\n",
        "\n",
        "# Convert the scaled data back to a DataFrame (optional)\n",
        "X_scaled_df = pd.DataFrame(X_scaled, columns=X.columns)\n",
        "\n",
        "# Display the first few rows of the standardized features\n",
        "print(\"Standardized Features:\")\n",
        "print(X_scaled_df.head())"
      ],
      "metadata": {
        "colab": {
          "base_uri": "https://localhost:8080/"
        },
        "id": "GcbemWWntbbb",
        "outputId": "e242c180-a5c8-4e1b-e168-13dfa230c19f"
      },
      "execution_count": 13,
      "outputs": [
        {
          "output_type": "stream",
          "name": "stdout",
          "text": [
            "Standardized Features:\n",
            "   Unnamed: 0       Age       Sex       ALB       ALP       ALT       AST  \\\n",
            "0   -3.613397 -1.633396  0.832549  0.170140 -0.420840 -0.663828 -0.952562   \n",
            "1   -3.606249 -1.633396  0.832549  0.170140  0.039239 -0.473683 -0.899773   \n",
            "2   -3.599101 -1.633396  0.832549  1.104922  0.152967 -0.137700 -0.333305   \n",
            "3   -3.591953 -1.633396  0.832549  0.693173 -0.433763 -0.241080 -0.942410   \n",
            "4   -3.584805 -1.633396  0.832549  0.248038  0.137458 -0.204159 -0.897743   \n",
            "\n",
            "        BIL       CHE      CHOL      CREA       GGT      PROT  \n",
            "0 -0.354344 -0.195805 -1.273517  0.422699 -0.846752 -0.040294  \n",
            "1 -0.462923  1.231020  0.079575 -0.069590 -0.808140  0.714160  \n",
            "2 -0.396569  0.446940  0.424312  0.115018 -0.613978  0.995822  \n",
            "3 -0.010512 -0.061199  0.027864  0.022714 -0.607359  0.633685  \n",
            "4 -0.291007  0.551259 -0.334109 -0.038822 -0.650384 -0.070472  \n"
          ]
        }
      ]
    },
    {
      "cell_type": "code",
      "source": [
        "# Save the preprocessed features and target to separate CSV files\n",
        "X_scaled_df.to_csv('X_preprocessed.csv', index=False)\n",
        "y_resampled.to_csv('y_preprocessed.csv', index=False)\n",
        "\n",
        "# Or save the entire dataset in one file (optional)\n",
        "preprocessed_data = pd.concat([X_scaled_df, pd.Series(y_resampled, name='Category')], axis=1)\n",
        "preprocessed_data.to_csv('preprocessed_hcv_data.csv', index=False)\n",
        "\n",
        "print(\"Preprocessed data saved to 'preprocessed_hcv_data.csv'.\")"
      ],
      "metadata": {
        "colab": {
          "base_uri": "https://localhost:8080/"
        },
        "id": "WDWrmyJJtfLD",
        "outputId": "22cd07d3-858b-4c35-81da-26633aa491a2"
      },
      "execution_count": 14,
      "outputs": [
        {
          "output_type": "stream",
          "name": "stdout",
          "text": [
            "Preprocessed data saved to 'preprocessed_hcv_data.csv'.\n"
          ]
        }
      ]
    },
    {
      "cell_type": "code",
      "source": [
        "# Check for any remaining missing values\n",
        "print(\"Missing values in preprocessed data:\")\n",
        "print(preprocessed_data.isnull().sum())\n",
        "\n",
        "# Validate class distribution (after applying SMOTE)\n",
        "print(\"\\nClass distribution in the target (y):\")\n",
        "print(pd.Series(y_resampled).value_counts())\n",
        "\n",
        "# Validate the shape of the dataset\n",
        "print(\"\\nShape of preprocessed data (X, y):\")\n",
        "print(X_scaled_df.shape, y_resampled.shape)"
      ],
      "metadata": {
        "colab": {
          "base_uri": "https://localhost:8080/"
        },
        "id": "ImUIpkdYtjmx",
        "outputId": "bc3448c5-6985-4869-d608-8f0e8672632a"
      },
      "execution_count": 15,
      "outputs": [
        {
          "output_type": "stream",
          "name": "stdout",
          "text": [
            "Missing values in preprocessed data:\n",
            "Unnamed: 0    0\n",
            "Age           0\n",
            "Sex           0\n",
            "ALB           0\n",
            "ALP           0\n",
            "ALT           0\n",
            "AST           0\n",
            "BIL           0\n",
            "CHE           0\n",
            "CHOL          0\n",
            "CREA          0\n",
            "GGT           0\n",
            "PROT          0\n",
            "Category      0\n",
            "dtype: int64\n",
            "\n",
            "Class distribution in the target (y):\n",
            "Category\n",
            "0    533\n",
            "1    533\n",
            "2    533\n",
            "3    533\n",
            "4    533\n",
            "Name: count, dtype: int64\n",
            "\n",
            "Shape of preprocessed data (X, y):\n",
            "(2665, 13) (2665,)\n"
          ]
        }
      ]
    }
  ]
}